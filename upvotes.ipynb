{
 "cells": [
  {
   "cell_type": "code",
   "execution_count": 1,
   "metadata": {},
   "outputs": [],
   "source": [
    "import pandas as pd\n",
    "import numpy as np\n",
    "from sklearn.feature_extraction.text import TfidfVectorizer\n",
    "import matplotlib.pyplot as plt\n",
    "%matplotlib inline\n",
    "from sklearn.linear_model import Ridge\n",
    "from sklearn.model_selection import train_test_split\n",
    "from sklearn.metrics import mean_absolute_error\n",
    "\n",
    "# Import Data from /r/politics The post title and the number of upvotes\n",
    "data = pd.read_csv('data.csv',escapechar=\"\\\\\")\n",
    "data_sub = data[['title', 'ups']]\n",
    "data_sub.is_copy = False\n",
    "data_sub['log_ups'] = np.log1p(data_sub['ups'])"
   ]
  },
  {
   "cell_type": "markdown",
   "metadata": {},
   "source": [
    "Data Description:\n",
    "------------------"
   ]
  },
  {
   "cell_type": "code",
   "execution_count": 2,
   "metadata": {},
   "outputs": [
    {
     "data": {
      "text/html": [
       "<div>\n",
       "<style>\n",
       "    .dataframe thead tr:only-child th {\n",
       "        text-align: right;\n",
       "    }\n",
       "\n",
       "    .dataframe thead th {\n",
       "        text-align: left;\n",
       "    }\n",
       "\n",
       "    .dataframe tbody tr th {\n",
       "        vertical-align: top;\n",
       "    }\n",
       "</style>\n",
       "<table border=\"1\" class=\"dataframe\">\n",
       "  <thead>\n",
       "    <tr style=\"text-align: right;\">\n",
       "      <th></th>\n",
       "      <th>ups</th>\n",
       "      <th>log_ups</th>\n",
       "    </tr>\n",
       "  </thead>\n",
       "  <tbody>\n",
       "    <tr>\n",
       "      <th>count</th>\n",
       "      <td>35018.000000</td>\n",
       "      <td>35018.000000</td>\n",
       "    </tr>\n",
       "    <tr>\n",
       "      <th>mean</th>\n",
       "      <td>589.979239</td>\n",
       "      <td>3.775398</td>\n",
       "    </tr>\n",
       "    <tr>\n",
       "      <th>std</th>\n",
       "      <td>2723.521822</td>\n",
       "      <td>2.264599</td>\n",
       "    </tr>\n",
       "    <tr>\n",
       "      <th>min</th>\n",
       "      <td>0.000000</td>\n",
       "      <td>0.000000</td>\n",
       "    </tr>\n",
       "    <tr>\n",
       "      <th>25%</th>\n",
       "      <td>11.000000</td>\n",
       "      <td>2.484907</td>\n",
       "    </tr>\n",
       "    <tr>\n",
       "      <th>50%</th>\n",
       "      <td>38.000000</td>\n",
       "      <td>3.663562</td>\n",
       "    </tr>\n",
       "    <tr>\n",
       "      <th>75%</th>\n",
       "      <td>166.000000</td>\n",
       "      <td>5.117994</td>\n",
       "    </tr>\n",
       "    <tr>\n",
       "      <th>max</th>\n",
       "      <td>52230.000000</td>\n",
       "      <td>10.863431</td>\n",
       "    </tr>\n",
       "  </tbody>\n",
       "</table>\n",
       "</div>"
      ],
      "text/plain": [
       "                ups       log_ups\n",
       "count  35018.000000  35018.000000\n",
       "mean     589.979239      3.775398\n",
       "std     2723.521822      2.264599\n",
       "min        0.000000      0.000000\n",
       "25%       11.000000      2.484907\n",
       "50%       38.000000      3.663562\n",
       "75%      166.000000      5.117994\n",
       "max    52230.000000     10.863431"
      ]
     },
     "execution_count": 2,
     "metadata": {},
     "output_type": "execute_result"
    }
   ],
   "source": [
    "# Stats for Upvotes\n",
    "data_sub.describe()"
   ]
  },
  {
   "cell_type": "code",
   "execution_count": 3,
   "metadata": {},
   "outputs": [
    {
     "name": "stdout",
     "output_type": "stream",
     "text": [
      "Number of Titles: \t35018\n",
      "Max Length of Title: \t299 characters\n",
      "Avg Length of Title: \t67 characters\n",
      "Max words in Title: \t53 words\n",
      "Avg words in Title: \t10 words\n"
     ]
    }
   ],
   "source": [
    "# Stats for Titles\n",
    "num_of_titles = len(data_sub['title'])\n",
    "max_len_title = max([len(x) for x in data_sub['title']])\n",
    "avg_len_title = int(np.mean([len(x) for x in data_sub['title']]))\n",
    "max_word_count = max([len(x.split()) for x in data_sub['title']])\n",
    "avg_word_count = int(np.mean([len(x.split()) for x in data_sub['title']]))\n",
    "\n",
    "print('Number of Titles: \\t{0}'.format(num_of_titles))\n",
    "print('Max Length of Title: \\t{0} characters'.format(max_len_title))\n",
    "print('Avg Length of Title: \\t{0} characters'.format(avg_len_title))\n",
    "print('Max words in Title: \\t{0} words'.format(max_word_count))\n",
    "print('Avg words in Title: \\t{0} words'.format(avg_word_count))\n"
   ]
  },
  {
   "cell_type": "code",
   "execution_count": 4,
   "metadata": {},
   "outputs": [
    {
     "data": {
      "image/png": "[encoded data removed]",
      "text/plain": [
       "<matplotlib.figure.Figure at 0xab70858c>"
      ]
     },
     "metadata": {},
     "output_type": "display_data"
    }
   ],
   "source": [
    "# Distribution of Upvotes\n",
    "plt.figure(figsize=(12,8))\n",
    "plt.subplot(2,2,1)\n",
    "plt.title('Distribution of Upvotes')\n",
    "plt.hist(data_sub['ups'])\n",
    "plt.xlabel('Upvotes per Post')\n",
    "\n",
    "plt.subplot(2,2,2)\n",
    "plt.title('Log Transformed Distribution of Upvotes')\n",
    "plt.hist(data_sub['log_ups'])\n",
    "plt.xlabel('Upvotes per Post(log)')\n",
    "plt.show()"
   ]
  },
  {
   "cell_type": "markdown",
   "metadata": {},
   "source": [
    "Apply Model Flow\n",
    "========"
   ]
  },
  {
   "cell_type": "code",
   "execution_count": 5,
   "metadata": {},
   "outputs": [],
   "source": [
    "# split Data in to test and training sets\n",
    "train_titles, test_titles, train_labels, test_labels = train_test_split(data_sub.title, \n",
    "                                                                        data_sub.ups, \n",
    "                                                                        test_size=0.20,\n",
    "                                                                        random_state=42)\n",
    "# Tokenize with specified ngram then apply tf-idf\n",
    "tfidf = TfidfVectorizer(ngram_range=(1,3)).fit(train_titles, train_labels)\n",
    "train_titles_tfidf = tfidf.transform(train_titles)\n",
    "test_titles_tfidf = tfidf.transform(test_titles)\n",
    "\n",
    "# Apply Linear Regression & Prediction\n",
    "reg = Ridge()\n",
    "reg.fit(train_titles_tfidf, train_labels)\n",
    "test_predictions = reg.predict(test_titles_tfidf)"
   ]
  },
  {
   "cell_type": "code",
   "execution_count": 6,
   "metadata": {},
   "outputs": [
    {
     "name": "stdout",
     "output_type": "stream",
     "text": [
      "MAE:  627.313849349\n",
      "Mean Train 601.92946384\n",
      "Mean Test 542.181753284\n"
     ]
    },
    {
     "data": {
      "image/png": "[encoded data removed]",
      "text/plain": [
       "<matplotlib.figure.Figure at 0xa9b5b04c>"
      ]
     },
     "metadata": {},
     "output_type": "display_data"
    }
   ],
   "source": [
    "print('MAE: ', mean_absolute_error(test_predictions, test_labels))\n",
    "print('Mean Train', np.mean(train_labels))\n",
    "print('Mean Test', np.mean(test_labels))\n",
    "\n",
    "plt.scatter(test_labels, test_predictions)\n",
    "plt.xlabel('True Upvotes')\n",
    "plt.ylabel('Predicted Upvotes')\n",
    "plt.show()"
   ]
  }
 ],
 "metadata": {
  "kernelspec": {
   "display_name": "Python 3",
   "language": "python",
   "name": "python3"
  },
  "language_info": {
   "codemirror_mode": {
    "name": "ipython",
    "version": 3
   },
   "file_extension": ".py",
   "mimetype": "text/x-python",
   "name": "python",
   "nbconvert_exporter": "python",
   "pygments_lexer": "ipython3",
   "version": "3.6.2"
  }
 },
 "nbformat": 4,
 "nbformat_minor": 2
}
