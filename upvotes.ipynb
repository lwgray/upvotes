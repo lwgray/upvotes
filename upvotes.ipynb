{
 "cells": [
  {
   "cell_type": "code",
   "execution_count": 1,
   "metadata": {},
   "outputs": [
    {
     "name": "stdout",
     "output_type": "stream",
     "text": [
      "MAE:  627.307323239\n",
      "Mean Train 601.92946384\n",
      "Mean Test 542.181753284\n"
     ]
    },
    {
     "data": {
      "image/png": "[encoded data removed]",
      "text/plain": [
       "<matplotlib.figure.Figure at 0xaed0bf8c>"
      ]
     },
     "metadata": {},
     "output_type": "display_data"
    }
   ],
   "source": [
    "import pandas as pd\n",
    "import numpy as np\n",
    "from sklearn.feature_extraction.text import TfidfVectorizer\n",
    "import matplotlib.pyplot as plt\n",
    "%matplotlib inline\n",
    "from sklearn.linear_model import Ridge\n",
    "from sklearn.model_selection import train_test_split\n",
    "from sklearn.metrics import mean_absolute_error\n",
    "\n",
    "# Import Data from /r/politics The post title and the number of upvotes\n",
    "data = pd.read_csv('data.csv',escapechar=\"\\\\\")\n",
    "data_sub = data[['title', 'ups']]\n",
    "\n",
    "# split Data in to test and training sets\n",
    "train_titles, test_titles, train_labels, test_labels = train_test_split(data_sub.title, \n",
    "                                                                        data_sub.ups, \n",
    "                                                                        test_size=0.20,\n",
    "                                                                        random_state=42)\n",
    "# Tokenize with specified ngram then apply tf-idf\n",
    "tfidf = TfidfVectorizer(ngram_range=(1,3)).fit(train_titles, train_labels)\n",
    "train_titles_tfidf = tfidf.transform(train_titles)\n",
    "test_titles_tfidf = tfidf.transform(test_titles)\n",
    "\n",
    "reg = Ridge()\n",
    "reg.fit(train_titles_tfidf, train_labels)\n",
    "test_predictions = reg.predict(test_titles_tfidf)\n",
    "\n",
    "print('MAE: ', mean_absolute_error(test_predictions, test_labels))\n",
    "print('Mean Train', np.mean(train_labels))\n",
    "print('Mean Test', np.mean(test_labels))\n",
    "\n",
    "plt.scatter(test_labels, test_predictions)\n",
    "plt.show()"
   ]
  }
 ],
 "metadata": {
  "kernelspec": {
   "display_name": "Python 3",
   "language": "python",
   "name": "python3"
  },
  "language_info": {
   "codemirror_mode": {
    "name": "ipython",
    "version": 3
   },
   "file_extension": ".py",
   "mimetype": "text/x-python",
   "name": "python",
   "nbconvert_exporter": "python",
   "pygments_lexer": "ipython3",
   "version": "3.6.2"
  }
 },
 "nbformat": 4,
 "nbformat_minor": 2
}
